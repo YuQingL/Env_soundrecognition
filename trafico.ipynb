{
 "cells": [
  {
   "cell_type": "markdown",
   "metadata": {},
   "source": [
    "# Algoritmo de clasificación ruido de tráfico\n",
    "\n",
    "###### El siguiente algoritmo emplea como descriprotes MFCC, ZCR, Spectral centroid y spectral roll off como vectores de características y se extraen con ayuda de la librera librosa. Como método de clasficación se usa un SVM multiclase con un kernel radial.\n",
    "\n",
    "## Pasos\n",
    "###### 1. Leer los archivos de audio, que se encuentran separados por clase en carpetas.\n",
    "\n"
   ]
  },
  {
   "cell_type": "code",
   "execution_count": 2,
   "metadata": {
    "collapsed": false
   },
   "outputs": [
    {
     "name": "stdout",
     "output_type": "stream",
     "text": [
      "hay 141 archivos de livianos\n",
      "hay 162 archivos de motos\n",
      "hay 122 archivos de pesados\n",
      "hay 98 archivos de bocinas\n"
     ]
    }
   ],
   "source": [
    "\n",
    "import os\n",
    "import numpy as np\n",
    "import scipy \n",
    "import matplotlib.pyplot as plt\n",
    "import  librosa\n",
    "\n",
    "\n",
    "# leer los directorios de las carpetas y separar los archivos que son de audio\n",
    "\n",
    "pwd1 = \"/home/aaccol/DATABASES/GCM/Isolated/liviano\"\n",
    "pwd2 = \"/home/aaccol/DATABASES/GCM/Isolated/moto\"\n",
    "pwd3 = \"/home/aaccol/DATABASES/GCM/Isolated/pesado\"\n",
    "pwd4 = \"/home/aaccol/DATABASES/GCM/Isolated/pito_ag\"\n",
    "\n",
    "\n",
    "def load_audios(path):\n",
    "    #funcion que carga los archivos wav en una lista de python \n",
    "    files = os.listdir(path) # listar los nombres de archivos que estan dentro del directorio\n",
    "    audiofiles = [(path+\"/\"+f) for f in files if f.endswith('.wav')] # verificar si son .wav y añadirlos las rutas a una lista\n",
    "    signals = [librosa.load(p)[0] for p in audiofiles] # cargar los vectores de audio en una lista\n",
    "    return signals\n",
    "\n",
    "        \n",
    "# cargar los archivos .wav en una lista de python\n",
    "\n",
    "l_signals = load_audios(pwd1)\n",
    "m_signals = load_audios(pwd2)\n",
    "p_signals = load_audios(pwd3)\n",
    "h_signals = load_audios(pwd4)\n",
    "\n",
    "c1 = len(l_signals)\n",
    "c2 = len(m_signals)\n",
    "c3 = len(p_signals)\n",
    "c4 = len(h_signals)\n",
    "    \n",
    "print \"hay \" + str(c1) + \" archivos de livianos\"\n",
    "print \"hay \" + str(c2) + \" archivos de motos\"\n",
    "print \"hay \" + str(c3) + \" archivos de pesados\"\n",
    "print \"hay \" + str(c4) + \" archivos de bocinas\"\n"
   ]
  },
  {
   "cell_type": "markdown",
   "metadata": {},
   "source": [
    "##### 2. Extraer los descriptores por medio de la librera librosa.\n",
    "\n"
   ]
  },
  {
   "cell_type": "code",
   "execution_count": 3,
   "metadata": {
    "collapsed": false
   },
   "outputs": [
    {
     "name": "stdout",
     "output_type": "stream",
     "text": [
      "Extracción de descriptores completada...\n"
     ]
    }
   ],
   "source": [
    "# Extraer los descriptores de todos los audios\n",
    "# Since v0.3, librosa uses centered frames, so that the kth frame is centered around sample k * hop_length\n",
    "\n",
    "w_size = 512\n",
    "hop = 256\n",
    "fs = 22050\n",
    "\n",
    "def extract_features(signals,w_size,hop,fs):\n",
    "    zcr = np.array([librosa.feature.zero_crossing_rate(s,frame_length=w_size, hop_length=hop) for s in signals])\n",
    "    sc = np.array([librosa.feature.spectral_centroid(y=s, sr=fs, S=None, n_fft=w_size, hop_length=hop) for s in signals])\n",
    "    sr = np.array([librosa.feature.spectral_rolloff(y=s, sr=fs, S=None, n_fft=w_size, hop_length=hop, freq=None, roll_percent=0.85) for s in signals])\n",
    "    return zcr, sc, sr\n",
    "\n",
    "\n",
    "l_zcr, l_sc, l_sr = extract_features(l_signals,w_size,hop,fs)\n",
    "m_zcr, m_sc, m_sr = extract_features(m_signals,w_size,hop,fs)\n",
    "p_zcr, p_sc, p_sr = extract_features(p_signals,w_size,hop,fs)\n",
    "h_zcr, h_sc, h_sr = extract_features(h_signals,w_size,hop,fs)\n",
    "\n",
    "# promedios y desviacion estandar\n",
    "\n",
    "mean_l_zcr = [np.mean(s[0]) for s in l_zcr]\n",
    "mean_m_zcr = [np.mean(s[0]) for s in m_zcr]\n",
    "mean_p_zcr = [np.mean(s[0]) for s in p_zcr]\n",
    "mean_h_zcr = [np.mean(s[0]) for s in h_zcr]\n",
    "\n",
    "var_l_zcr = [np.var(s[0]) for s in l_zcr]\n",
    "var_m_zcr = [np.var(s[0]) for s in m_zcr]\n",
    "var_p_zcr = [np.var(s[0]) for s in p_zcr]\n",
    "var_h_zcr = [np.var(s[0]) for s in h_zcr]\n",
    "\n",
    "mean_l_sc = [np.mean(s[0]) for s in l_sc]\n",
    "mean_m_sc = [np.mean(s[0]) for s in m_sc]\n",
    "mean_p_sc = [np.mean(s[0]) for s in p_sc]\n",
    "mean_h_sc = [np.mean(s[0]) for s in h_sc]\n",
    "\n",
    "var_l_sc = [np.var(s[0]) for s in l_sc]\n",
    "var_m_sc = [np.var(s[0]) for s in m_sc]\n",
    "var_p_sc = [np.var(s[0]) for s in p_sc]\n",
    "var_h_sc = [np.var(s[0]) for s in h_sc]\n",
    "\n",
    "mean_l_sr = [np.mean(s[0]) for s in l_sr]\n",
    "mean_m_sr = [np.mean(s[0]) for s in m_sr]\n",
    "mean_p_sr = [np.mean(s[0]) for s in p_sr]\n",
    "mean_h_sr = [np.mean(s[0]) for s in h_sr]\n",
    "\n",
    "var_l_sr = [np.var(s[0]) for s in l_sr]\n",
    "var_m_sr = [np.var(s[0]) for s in m_sr]\n",
    "var_p_sr = [np.var(s[0]) for s in p_sr]\n",
    "var_h_sr = [np.var(s[0]) for s in h_sr]\n",
    "\n",
    "\n",
    "## MFCC\n",
    "\n",
    "n=20\n",
    "\n",
    "l_mfcc = [librosa.feature.mfcc(s, n_fft=w_size, hop_length=hop, sr=fs, n_mfcc=n) for s in l_signals]\n",
    "l_mfcc_d = [librosa.feature.delta(mfcc) for mfcc in l_mfcc]\n",
    "\n",
    "\n",
    "m_mfcc = [librosa.feature.mfcc(s, n_fft=w_size,hop_length=hop, sr=fs, n_mfcc=n) for s in m_signals]\n",
    "m_mfcc_d = [librosa.feature.delta(mfcc) for mfcc in m_mfcc]\n",
    "\n",
    "\n",
    "p_mfcc = [librosa.feature.mfcc(s, n_fft=w_size,hop_length=hop, sr=fs, n_mfcc=n) for s in p_signals]\n",
    "p_mfcc_d = [librosa.feature.delta(mfcc) for mfcc in p_mfcc]\n",
    "\n",
    "\n",
    "h_mfcc = [librosa.feature.mfcc(s, n_fft=w_size,hop_length=hop, sr=fs, n_mfcc=n) for s in h_signals]\n",
    "h_mfcc_d = [librosa.feature.delta(mfcc) for mfcc in h_mfcc]\n",
    "\n",
    "\n",
    "mean_l_mfcc = [e.mean(axis = 1) for e in l_mfcc]\n",
    "mean_m_mfcc = [e.mean(axis = 1) for e in m_mfcc]\n",
    "mean_p_mfcc = [e.mean(axis = 1) for e in p_mfcc]\n",
    "mean_h_mfcc = [e.mean(axis = 1) for e in h_mfcc]\n",
    "\n",
    "\n",
    "var_l_mfcc = [[np.var(e[j]) for j in range(n)]for e in l_mfcc]\n",
    "var_m_mfcc = [[np.var(e[j]) for j in range(n)]for e in m_mfcc]\n",
    "var_p_mfcc = [[np.var(e[j]) for j in range(n)]for e in p_mfcc]\n",
    "var_h_mfcc = [[np.var(e[j]) for j in range(n)]for e in h_mfcc]\n",
    "\n",
    "print 'Extracción de descriptores completada...'\n",
    "\n",
    "\n",
    "   \n"
   ]
  },
  {
   "cell_type": "markdown",
   "metadata": {},
   "source": [
    "#### 3. Creación matriz de descriptores"
   ]
  },
  {
   "cell_type": "code",
   "execution_count": 4,
   "metadata": {
    "collapsed": false
   },
   "outputs": [
    {
     "name": "stdout",
     "output_type": "stream",
     "text": [
      "Matriz de descriptores creada...\n"
     ]
    }
   ],
   "source": [
    "# creacion de matriz de los descriptores\n",
    "\n",
    "liviano = [[mean_l_sc[i], mean_l_sr[i], mean_l_zcr[i], var_l_sc[i], var_l_sr[i], var_l_zcr[i]]  for i in range(c1)]\n",
    "moto = [[mean_m_sc[i], mean_m_sr[i], mean_m_zcr[i], var_m_sc[i], var_m_sr[i], var_m_zcr[i]]  for i in range(c2)]\n",
    "pesado = [[mean_p_sc[i], mean_p_sr[i], mean_p_zcr[i], var_p_sc[i], var_p_sr[i], var_p_zcr[i]]  for i in range(c3)]\n",
    "pito = [[mean_h_sc[i], mean_h_sr[i], mean_h_zcr[i], var_h_sc[i], var_h_sr[i], var_h_zcr[i]]  for i in range(c4)]\n",
    "\n",
    "# concatenacion de los diferentes tipos\n",
    "\n",
    "data =[]\n",
    "for i in range(c1):\n",
    "    data.append(liviano[i])\n",
    "for i in range(c2):\n",
    "    data.append(moto[i])\n",
    "for i in range(c3):\n",
    "    data.append(pesado[i])\n",
    "for i in range(c4):\n",
    "    data.append(pito[i])\n",
    "    \n",
    "data_mfcc =[]\n",
    "for i in range(c1):\n",
    "    data_mfcc.append(mean_l_mfcc[i])\n",
    "for i in range(c2):\n",
    "    data_mfcc.append(mean_m_mfcc[i])\n",
    "for i in range(c3):\n",
    "    data_mfcc.append(mean_p_mfcc[i])\n",
    "for i in range(c4):\n",
    "    data_mfcc.append(mean_h_mfcc[i])\n",
    "    \n",
    "\n",
    "    \n",
    "#data_mixed = []\n",
    "#data_mixed_all = [ele + data[i][:-3] for i, ele in enumerate(data_mfcc)]\n",
    "#data_mixed_zcr = [ele + data[i][2:-3] for i, ele in enumerate(data_mfcc)]\n",
    "#data_mixed_sc = [ele + data[i][:-5] for i, ele in enumerate(data_mfcc)]\n",
    "#data_mixed_sr = [ele + data[i][1:-4] for i, ele in enumerate(data_mfcc)]\n",
    "\n",
    "    \n",
    "label =[]\n",
    "for i in range(c1):\n",
    "    label.append('Liviano')\n",
    "for i in range(c2):\n",
    "    label.append('Moto')\n",
    "for i in range(c3):\n",
    "    label.append('Pesado')\n",
    "for i in range(c4):\n",
    "    label.append('Bocina')\n",
    "    \n",
    "\n",
    "    \n",
    "print 'Matriz de descriptores creada...'\n",
    "\n"
   ]
  },
  {
   "cell_type": "markdown",
   "metadata": {},
   "source": [
    "#### 4. entrenamiento del modelo"
   ]
  },
  {
   "cell_type": "code",
   "execution_count": 5,
   "metadata": {
    "collapsed": false
   },
   "outputs": [
    {
     "name": "stdout",
     "output_type": "stream",
     "text": [
      "{'kernel': 'rbf', 'C': 10, 'gamma': 0.0001}\n",
      "Accuracy: 0.83 (+/- 0.10)\n",
      "porcentaje de éxito: 0.859872611465\n",
      "             precision    recall  f1-score   support\n",
      "\n",
      "     Bocina       0.96      0.93      0.95        28\n",
      "    Liviano       0.90      0.92      0.91        38\n",
      "       Moto       0.82      0.87      0.84        53\n",
      "     Pesado       0.80      0.74      0.77        38\n",
      "\n",
      "avg / total       0.86      0.86      0.86       157\n",
      "\n"
     ]
    },
    {
     "data": {
      "text/plain": [
       "['clasificador_trafico.sav']"
      ]
     },
     "execution_count": 5,
     "metadata": {},
     "output_type": "execute_result"
    }
   ],
   "source": [
    "\n",
    "from sklearn.preprocessing import scale\n",
    "from sklearn import svm\n",
    "from sklearn.model_selection import train_test_split\n",
    "from sklearn.metrics import accuracy_score\n",
    "from sklearn.metrics import confusion_matrix\n",
    "from sklearn.metrics import classification_report\n",
    "from sklearn.model_selection import GridSearchCV\n",
    "from sklearn.model_selection import cross_val_score\n",
    "from sklearn.decomposition import PCA\n",
    "from sklearn.externals import joblib\n",
    "\n",
    "import itertools\n",
    "\n",
    "X = data_mfcc\n",
    "\n",
    "#particion de los datos en entrenamiento y prueba\n",
    "x, y = X, label\n",
    "X_train, X_test, y_train, y_test = train_test_split(x, y, test_size=0.3, random_state=0)\n",
    "\n",
    "#entrenamiento del SVM\n",
    "# probar diferentes valores para C y para Gamma\n",
    "\n",
    "param_grid = [\n",
    "  {'C': [1, 10, 100, 1000], 'kernel': ['linear']},\n",
    "  {'C': [1, 10, 100, 1000], 'gamma': [0.01, 0.001, 0.0001], 'kernel': ['rbf']},\n",
    " ]\n",
    "svr = svm.SVC()\n",
    "clf = GridSearchCV(svr, param_grid)\n",
    "clf.fit(X_train,y_train)\n",
    "\n",
    "scores = cross_val_score(clf, X, label, cv=5)\n",
    "\n",
    "\n",
    "print(clf.best_params_)\n",
    "best_param = clf.best_params_\n",
    "print(\"Accuracy: %0.2f (+/- %0.2f)\" % (scores.mean(), scores.std() * 2))\n",
    "\n",
    "\n",
    "\n",
    "#puntajes\n",
    "y_pred = clf.predict(X_test)\n",
    "print \"porcentaje de éxito: \" + str(accuracy_score(y_test, y_pred))\n",
    "report = classification_report(y_test, y_pred)\n",
    "print report\n",
    "\n",
    "# save the model to disk\n",
    "filename = 'clasificador_trafico.sav'\n",
    "joblib.dump(clf, filename)\n"
   ]
  },
  {
   "cell_type": "markdown",
   "metadata": {},
   "source": [
    "#### 5. Matriz de confusión"
   ]
  },
  {
   "cell_type": "code",
   "execution_count": 6,
   "metadata": {
    "collapsed": false
   },
   "outputs": [
    {
     "name": "stdout",
     "output_type": "stream",
     "text": [
      "Matriz de confusion, sin normalizacion\n",
      "[[26  0  2  0]\n",
      " [ 0 35  2  1]\n",
      " [ 0  1 46  6]\n",
      " [ 1  3  6 28]]\n",
      "Matriz de confusion normalizada\n",
      "[[ 0.93  0.    0.07  0.  ]\n",
      " [ 0.    0.92  0.05  0.03]\n",
      " [ 0.    0.02  0.87  0.11]\n",
      " [ 0.03  0.08  0.16  0.74]]\n"
     ]
    },
    {
     "data": {
      "image/png": "[encoded data removed]",
      "text/plain": [
       "<matplotlib.figure.Figure at 0x7fc3d8d84350>"
      ]
     },
     "metadata": {},
     "output_type": "display_data"
    },
    {
     "data": {
      "image/png": "[encoded data removed]",
      "text/plain": [
       "<matplotlib.figure.Figure at 0x7fc3d8dcc750>"
      ]
     },
     "metadata": {},
     "output_type": "display_data"
    }
   ],
   "source": [
    "#matriz de confusion\n",
    "\n",
    "\n",
    "def plot_confusion_matrix(cm, classes,\n",
    "                          normalize=False,\n",
    "                          title='Confusion matrix',\n",
    "                          cmap=plt.cm.Blues):\n",
    "    \"\"\"\n",
    "    This function prints and plots the confusion matrix.\n",
    "    Normalization can be applied by setting `normalize=True`.\n",
    "    \"\"\"\n",
    "    if normalize:\n",
    "        cm = cm.astype('float') / cm.sum(axis=1)[:, np.newaxis]\n",
    "        print(\"Matriz de confusion normalizada\")\n",
    "    else:\n",
    "        print('Matriz de confusion, sin normalizacion')\n",
    "    plt.imshow(cm, interpolation='nearest', cmap=cmap)\n",
    "    plt.title(title, fontsize=15)\n",
    "    plt.colorbar()\n",
    "    tick_marks = np.arange(len(classes))\n",
    "    plt.xticks(tick_marks, classes, rotation=45)\n",
    "    plt.yticks(tick_marks, classes)\n",
    "\n",
    "\n",
    "\n",
    "    print(cm)\n",
    "\n",
    "    thresh = cm.max() / 2.\n",
    "    for i, j in itertools.product(range(cm.shape[0]), range(cm.shape[1])):\n",
    "        plt.text(j, i, round(cm[i, j],2),\n",
    "                 horizontalalignment=\"center\",\n",
    "                 color=\"white\" if cm[i, j] > thresh else \"black\")\n",
    "\n",
    "    plt.tight_layout()\n",
    "    plt.ylabel(r'$Clase\\; verdadera$',fontsize=15)\n",
    "    plt.xlabel(r'$Predicci\\'on$',fontsize=15)\n",
    "\n",
    "# Compute confusion matrix\n",
    "cnf_matrix = confusion_matrix(y_test, y_pred)\n",
    "np.set_printoptions(precision=2)\n",
    "\n",
    "# Plot non-normalized confusion matrix\n",
    "class_names = [\"Bocina\",\"Liviano\",\"Moto\",\"Pesado\"]\n",
    "plt.figure()\n",
    "plot_confusion_matrix(cnf_matrix, classes=class_names,\n",
    "                      title=r'$Matriz\\; de\\; confusi\\'on,\\; sin\\; normalizaci\\'on$')\n",
    "\n",
    "# Plot normalized confusion matrix\n",
    "plt.figure()\n",
    "plot_confusion_matrix(cnf_matrix, classes=class_names, normalize=True,\n",
    "                      title=r'$Matriz\\;de\\; confusi\\'on\\; normalizada$')\n",
    "\n",
    "plt.savefig('matriz_conf.png', dpi=300, format='png', bbox_inches='tight')\n",
    "plt.show()"
   ]
  },
  {
   "cell_type": "code",
   "execution_count": 7,
   "metadata": {
    "collapsed": false
   },
   "outputs": [
    {
     "name": "stdout",
     "output_type": "stream",
     "text": [
      "[0.96, 0.93, 0.95]\n",
      "[0.9, 0.92, 0.91]\n",
      "[0.82, 0.87, 0.84]\n",
      "[0.8, 0.74, 0.77]\n",
      "plotMat: [[0.96, 0.93, 0.95], [0.9, 0.92, 0.91], [0.82, 0.87, 0.84], [0.8, 0.74, 0.77]]\n",
      "support: [28, 38, 53, 38]\n"
     ]
    },
    {
     "name": "stderr",
     "output_type": "stream",
     "text": [
      "/usr/local/lib/python2.7/dist-packages/matplotlib/artist.py:221: MatplotlibDeprecationWarning: This has been deprecated in mpl 1.5, please use the\n",
      "axes property.  A removal date has not been set.\n",
      "  warnings.warn(_get_axes_msg, mplDeprecation, stacklevel=1)\n"
     ]
    },
    {
     "data": {
      "image/png": "[encoded data removed]",
      "text/plain": [
       "<matplotlib.figure.Figure at 0x7fc3d898ef10>"
      ]
     },
     "metadata": {},
     "output_type": "display_data"
    }
   ],
   "source": [
    "import matplotlib.pyplot as plt\n",
    "import numpy as np\n",
    "\n",
    "def show_values(pc, fmt=\"%.2f\", **kw):\n",
    "\n",
    "    from itertools import izip\n",
    "    pc.update_scalarmappable()\n",
    "    ax = pc.get_axes()\n",
    "    for p, color, value in izip(pc.get_paths(), pc.get_facecolors(), pc.get_array()):\n",
    "        x, y = p.vertices[:-2, :].mean(0)\n",
    "        if np.all(color[:3] > 0.5):\n",
    "            color = (0.0, 0.0, 0.0)\n",
    "        else:\n",
    "            color = (1.0, 1.0, 1.0)\n",
    "        ax.text(x, y, fmt % value, ha=\"center\", va=\"center\", color=color, **kw)\n",
    "\n",
    "\n",
    "def cm2inch(*tupl):\n",
    " \n",
    "\n",
    "    inch = 2.54\n",
    "    if type(tupl[0]) == tuple:\n",
    "        return tuple(i/inch for i in tupl[0])\n",
    "    else:\n",
    "        return tuple(i/inch for i in tupl)\n",
    "\n",
    "\n",
    "def heatmap(AUC, title, xlabel, ylabel, xticklabels, yticklabels, figure_width=40, figure_height=20, correct_orientation=False, cmap='RdBu'):\n",
    "\n",
    "    # Plot it out\n",
    "    fig, ax = plt.subplots()    \n",
    "    #c = ax.pcolor(AUC, edgecolors='k', linestyle= 'dashed', linewidths=0.2, cmap='RdBu', vmin=0.0, vmax=1.0)\n",
    "    c = ax.pcolor(AUC, edgecolors='k', linestyle= 'dashed', linewidths=0.2, cmap=cmap)\n",
    "\n",
    "    # put the major ticks at the middle of each cell\n",
    "    ax.set_yticks(np.arange(AUC.shape[0]) + 0.5, minor=False)\n",
    "    ax.set_xticks(np.arange(AUC.shape[1]) + 0.5, minor=False)\n",
    "\n",
    "    # set tick labels\n",
    "    #ax.set_xticklabels(np.arange(1,AUC.shape[1]+1), minor=False)\n",
    "    ax.set_xticklabels(xticklabels, minor=False)\n",
    "    ax.set_yticklabels(yticklabels, minor=False)\n",
    "\n",
    "    # set title and x/y labels\n",
    "    plt.title(title, fontsize=15)\n",
    "    plt.xlabel(xlabel, fontsize=15)\n",
    "    plt.ylabel(ylabel, fontsize=15)      \n",
    "\n",
    "    # Remove last blank column\n",
    "    plt.xlim( (0, AUC.shape[1]) )\n",
    "\n",
    "    # Turn off all the ticks\n",
    "    ax = plt.gca()    \n",
    "    for t in ax.xaxis.get_major_ticks():\n",
    "        t.tick1On = False\n",
    "        t.tick2On = False\n",
    "    for t in ax.yaxis.get_major_ticks():\n",
    "        t.tick1On = False\n",
    "        t.tick2On = False\n",
    "\n",
    "    # Add color bar\n",
    "    plt.colorbar(c)\n",
    "\n",
    "    # Add text in each cell \n",
    "    show_values(c)\n",
    "\n",
    "    # Proper orientation (origin at the top left instead of bottom left)\n",
    "    if correct_orientation:\n",
    "        ax.invert_yaxis()\n",
    "        ax.xaxis.tick_top()       \n",
    "\n",
    "    # resize \n",
    "    fig = plt.gcf()\n",
    "    #fig.set_size_inches(cm2inch(40, 20))\n",
    "    #fig.set_size_inches(cm2inch(40*4, 20*4))\n",
    "    fig.set_size_inches(cm2inch(figure_width, figure_height))\n",
    "\n",
    "\n",
    "\n",
    "def plot_classification_report(classification_report, title=r'$Puntajes\\; clasificador$ ', cmap='Blues'):\n",
    "  \n",
    "    lines = classification_report.split('\\n')\n",
    "\n",
    "    classes = []\n",
    "    plotMat = []\n",
    "    support = []\n",
    "    class_names = []\n",
    "    for line in lines[2 : (len(lines) - 2)]:\n",
    "        t = line.strip().split()\n",
    "        if len(t) < 2: continue\n",
    "        classes.append(t[0])\n",
    "        v = [float(x) for x in t[1: len(t) - 1]]\n",
    "        support.append(int(t[-1]))\n",
    "        class_names.append(t[0])\n",
    "        print(v)\n",
    "        plotMat.append(v)\n",
    "\n",
    "    print('plotMat: {0}'.format(plotMat))\n",
    "    print('support: {0}'.format(support))\n",
    "\n",
    "    xlabel = r'$Puntajes$'\n",
    "    ylabel = r'$Clases$'\n",
    "    xticklabels = ['Precision', 'Recall', 'F1-score']\n",
    "    yticklabels = ['{0} ({1})'.format(class_names[idx], sup) for idx, sup  in enumerate(support)]\n",
    "    figure_width = 25\n",
    "    figure_height = len(class_names) + 7\n",
    "    correct_orientation = False\n",
    "    heatmap(np.array(plotMat), title, xlabel, ylabel, xticklabels, yticklabels, figure_width, figure_height, correct_orientation, cmap=cmap)\n",
    "\n",
    "\n",
    "\n",
    "plot_classification_report(report)\n",
    "plt.savefig('test_plot_classif_report.png', dpi=300, format='png', bbox_inches='tight')\n",
    "plt.show()\n",
    "plt.close()\n",
    "\n",
    "\n",
    "\n"
   ]
  },
  {
   "cell_type": "markdown",
   "metadata": {
    "collapsed": false
   },
   "source": [
    "## Curvas de aprendizaje"
   ]
  },
  {
   "cell_type": "code",
   "execution_count": 8,
   "metadata": {
    "collapsed": false
   },
   "outputs": [
    {
     "data": {
      "image/png": "[encoded data removed]",
      "text/plain": [
       "<matplotlib.figure.Figure at 0x7fc3d8913b90>"
      ]
     },
     "metadata": {},
     "output_type": "display_data"
    }
   ],
   "source": [
    "from sklearn.model_selection import learning_curve\n",
    "from sklearn.model_selection import ShuffleSplit\n",
    "\n",
    "\n",
    "def plot_learning_curve(estimator, title, X, y, ylim=None, cv=None,\n",
    "                        n_jobs=1, train_sizes=np.linspace(.1, 1.0, 5)):\n",
    "\n",
    "    plt.figure()\n",
    "    plt.title(title)\n",
    "    if ylim is not None:\n",
    "        plt.ylim(*ylim)\n",
    "    plt.xlabel(\"Muestras de entrenamiento\")\n",
    "    plt.ylabel(\"Tasa reconocimiento\")\n",
    "    train_sizes, train_scores, test_scores = learning_curve(\n",
    "        estimator, X, y, cv=cv, n_jobs=n_jobs, train_sizes=train_sizes)\n",
    "    train_scores_mean = np.mean(train_scores, axis=1)\n",
    "    train_scores_std = np.std(train_scores, axis=1)\n",
    "    test_scores_mean = np.mean(test_scores, axis=1)\n",
    "    test_scores_std = np.std(test_scores, axis=1)\n",
    "    plt.grid()\n",
    "\n",
    "    plt.fill_between(train_sizes, train_scores_mean - train_scores_std,\n",
    "                     train_scores_mean + train_scores_std, alpha=0.1,\n",
    "                     color=\"r\")\n",
    "    plt.fill_between(train_sizes, test_scores_mean - test_scores_std,\n",
    "                     test_scores_mean + test_scores_std, alpha=0.1, color=\"b\")\n",
    "    plt.plot(train_sizes, train_scores_mean, 'o-', color=\"r\",\n",
    "             label=r\"$Tasa\\; reconocimento\\; entrenamiento$\")\n",
    "    plt.plot(train_sizes, test_scores_mean, 'o-', color=\"g\",\n",
    "             label=r\"$Tasa\\; reconocimiento\\; validaci\\'on\\; cruzada$\")\n",
    "\n",
    "    plt.legend(loc=\"best\")\n",
    "    return plt\n",
    "\n",
    "\n",
    "title = \"Curva de aprendizaje (SVM, \" + str(best_param['kernel'])+  \" kernel, $\\gamma=$\" + str(best_param['gamma'])+\")\"\n",
    "# SVC is more expensive so we do a lower number of CV iterations:\n",
    "cv = ShuffleSplit(n_splits=10, test_size=0.3, random_state=0)\n",
    "estimator = svm.SVC(kernel=best_param['kernel'],C = best_param['C'], gamma = best_param['gamma'])\n",
    "plot_learning_curve(estimator, title, x, y, (0.0, 1.01), cv=cv, n_jobs=4)\n",
    "plt.savefig('learning_curve.png', dpi=300, format='png', bbox_inches='tight')\n",
    "plt.show()\n"
   ]
  }
 ],
 "metadata": {
  "kernelspec": {
   "display_name": "Python 2",
   "language": "python",
   "name": "python2"
  },
  "language_info": {
   "codemirror_mode": {
    "name": "ipython",
    "version": 2
   },
   "file_extension": ".py",
   "mimetype": "text/x-python",
   "name": "python",
   "nbconvert_exporter": "python",
   "pygments_lexer": "ipython2",
   "version": "2.7.12"
  }
 },
 "nbformat": 4,
 "nbformat_minor": 1
}
